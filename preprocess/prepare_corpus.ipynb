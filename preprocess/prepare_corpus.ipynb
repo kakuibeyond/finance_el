{
 "cells": [
  {
   "cell_type": "code",
   "execution_count": 3,
   "metadata": {},
   "outputs": [],
   "source": [
    "import pandas as pd"
   ]
  },
  {
   "cell_type": "markdown",
   "metadata": {},
   "source": [
    "# 读取原始文档，生成分段数据\n",
    "- 原始文档为`fin_articles.csv`,包含列：src_web,keywords,text,len_text\n",
    "- 按照换行符分割文档\n",
    "- 分段数据包含：src_idx,keeywords,text,mentions"
   ]
  },
  {
   "cell_type": "code",
   "execution_count": null,
   "metadata": {},
   "outputs": [],
   "source": [
    "# 准备语料\n",
    "df=pd.read_csv(r'fin_articles.csv')\n",
    "df.head(2)"
   ]
  },
  {
   "cell_type": "code",
   "execution_count": null,
   "metadata": {},
   "outputs": [],
   "source": [
    "# 文本按换行符分割\n",
    "all_src_idx=[]\n",
    "all_kws=[]\n",
    "all_texts=[]\n",
    "for index,row in df.iterrows():\n",
    "    texts=row['text'].split('\\n') if isinstance(row['text'],str) else []\n",
    "    # texts=[t for t in texts if len(t)>5] #过短的直接剔除\n",
    "    all_src_idx.extend([index] * len(texts)) # 所属原文idx\n",
    "    all_kws.extend([row['keywords']] * len(texts))\n",
    "    all_texts.extend(texts)\n",
    "print(len(all_texts))\n",
    "# segment_articles\n",
    "df_seg=pd.DataFrame({'src_idx':all_src_idx, 'keywords':all_kws, 'text':all_texts})\n",
    "df_seg.head(20)\n"
   ]
  },
  {
   "cell_type": "code",
   "execution_count": null,
   "metadata": {},
   "outputs": [],
   "source": [
    "# df_seg[df_seg['text'].str.len()<5].head()\n",
    "df_seg=df_seg[df_seg['text'].str.len()>5] #过短的句子没有意义 空字符串会报错\n",
    "df_seg.tail(10)"
   ]
  },
  {
   "cell_type": "code",
   "execution_count": null,
   "metadata": {},
   "outputs": [],
   "source": [
    "# 删除一部分数据后，索引列变得不连续，重新索引\n",
    "df_seg=df_seg.reset_index(drop=True)\n",
    "df_seg.tail(10)"
   ]
  },
  {
   "cell_type": "code",
   "execution_count": null,
   "metadata": {},
   "outputs": [],
   "source": [
    "df_seg.to_csv('segment_articles.csv',sep='\\t')"
   ]
  },
  {
   "cell_type": "markdown",
   "metadata": {},
   "source": [
    "# 读取存储的分段数据\n",
    "- 注意指定index_col=0，文件里面包含了index\n",
    "- 总数据量10w左右，后期需要进行一定筛选，此处先全部识别出来"
   ]
  },
  {
   "cell_type": "code",
   "execution_count": 7,
   "metadata": {},
   "outputs": [
    {
     "data": {
      "text/html": [
       "<div>\n",
       "<style scoped>\n",
       "    .dataframe tbody tr th:only-of-type {\n",
       "        vertical-align: middle;\n",
       "    }\n",
       "\n",
       "    .dataframe tbody tr th {\n",
       "        vertical-align: top;\n",
       "    }\n",
       "\n",
       "    .dataframe thead th {\n",
       "        text-align: right;\n",
       "    }\n",
       "</style>\n",
       "<table border=\"1\" class=\"dataframe\">\n",
       "  <thead>\n",
       "    <tr style=\"text-align: right;\">\n",
       "      <th></th>\n",
       "      <th>src_idx</th>\n",
       "      <th>keywords</th>\n",
       "      <th>text</th>\n",
       "      <th>mentions</th>\n",
       "    </tr>\n",
       "  </thead>\n",
       "  <tbody>\n",
       "    <tr>\n",
       "      <th>0</th>\n",
       "      <td>0</td>\n",
       "      <td>信息泄露</td>\n",
       "      <td>消费火正旺 金融添把柴</td>\n",
       "      <td>NaN</td>\n",
       "    </tr>\n",
       "    <tr>\n",
       "      <th>1</th>\n",
       "      <td>0</td>\n",
       "      <td>信息泄露</td>\n",
       "      <td>年轻人消费方式的改变和信用消费意识的增强，推动消费金融行业井喷式增长</td>\n",
       "      <td>NaN</td>\n",
       "    </tr>\n",
       "    <tr>\n",
       "      <th>2</th>\n",
       "      <td>0</td>\n",
       "      <td>信息泄露</td>\n",
       "      <td>“现在工作这么累，想在休息日好好犒劳自己。只要有假期，我就会去世界各地旅行，已经去过韩国、日...</td>\n",
       "      <td>NaN</td>\n",
       "    </tr>\n",
       "    <tr>\n",
       "      <th>3</th>\n",
       "      <td>0</td>\n",
       "      <td>信息泄露</td>\n",
       "      <td>80后、90后等年轻一代消费方式的改变和信用消费意识的增强，是近些年我国消费金融行业蓬勃发展...</td>\n",
       "      <td>NaN</td>\n",
       "    </tr>\n",
       "    <tr>\n",
       "      <th>4</th>\n",
       "      <td>0</td>\n",
       "      <td>信息泄露</td>\n",
       "      <td>银保监会近日下发通知，要求积极发展消费金融，适应多样化、多层次消费需求，提供和改进差异化金融...</td>\n",
       "      <td>NaN</td>\n",
       "    </tr>\n",
       "  </tbody>\n",
       "</table>\n",
       "</div>"
      ],
      "text/plain": [
       "   src_idx keywords                                               text  \\\n",
       "0        0     信息泄露                                        消费火正旺 金融添把柴   \n",
       "1        0     信息泄露                 年轻人消费方式的改变和信用消费意识的增强，推动消费金融行业井喷式增长   \n",
       "2        0     信息泄露  “现在工作这么累，想在休息日好好犒劳自己。只要有假期，我就会去世界各地旅行，已经去过韩国、日...   \n",
       "3        0     信息泄露  80后、90后等年轻一代消费方式的改变和信用消费意识的增强，是近些年我国消费金融行业蓬勃发展...   \n",
       "4        0     信息泄露  银保监会近日下发通知，要求积极发展消费金融，适应多样化、多层次消费需求，提供和改进差异化金融...   \n",
       "\n",
       "   mentions  \n",
       "0       NaN  \n",
       "1       NaN  \n",
       "2       NaN  \n",
       "3       NaN  \n",
       "4       NaN  "
      ]
     },
     "execution_count": 7,
     "metadata": {},
     "output_type": "execute_result"
    }
   ],
   "source": [
    "df_seg2=pd.read_csv(r'..\\data\\segment_articles.csv',sep='\\t',index_col=0)\n",
    "df_seg2.head()"
   ]
  },
  {
   "cell_type": "code",
   "execution_count": 10,
   "metadata": {},
   "outputs": [],
   "source": [
    "# 切片赋值测试\n",
    "# df_seg2.loc[1:3,'mentions']=['m1','m2','M3']# 切片为左右闭区间\n",
    "# df_seg2.head()\n",
    "def ner_partation(df,start,end, entity_list, col='mentions'):\n",
    "    assert len(entity_list)==end-start+1\n",
    "    df.loc[start:end,col]=entity_list\n",
    "    return\n"
   ]
  },
  {
   "cell_type": "code",
   "execution_count": 35,
   "metadata": {},
   "outputs": [],
   "source": [
    "import logging\n",
    "logging.basicConfig(level=logging.INFO)\n",
    "from tqdm import tqdm\n",
    "# from stanzaNER import ner\n",
    "import stanzaNER\n",
    "import time"
   ]
  },
  {
   "cell_type": "code",
   "execution_count": 38,
   "metadata": {},
   "outputs": [
    {
     "name": "stderr",
     "output_type": "stream",
     "text": [
      "2022-01-22 21:54:28 INFO: \"zh\" is an alias for \"zh-hans\"\n",
      "INFO:stanza:\"zh\" is an alias for \"zh-hans\"\n",
      "2022-01-22 21:54:28 INFO: Loading these models for language: zh-hans (Simplified_Chinese):\n",
      "=========================\n",
      "| Processor | Package   |\n",
      "-------------------------\n",
      "| tokenize  | gsdsimp   |\n",
      "| pos       | gsdsimp   |\n",
      "| ner       | ontonotes |\n",
      "=========================\n",
      "\n",
      "INFO:stanza:Loading these models for language: zh-hans (Simplified_Chinese):\n",
      "=========================\n",
      "| Processor | Package   |\n",
      "-------------------------\n",
      "| tokenize  | gsdsimp   |\n",
      "| pos       | gsdsimp   |\n",
      "| ner       | ontonotes |\n",
      "=========================\n",
      "\n",
      "2022-01-22 21:54:28 INFO: Use device: cpu\n",
      "INFO:stanza:Use device: cpu\n",
      "2022-01-22 21:54:28 INFO: Loading: tokenize\n",
      "INFO:stanza:Loading: tokenize\n",
      "2022-01-22 21:54:28 INFO: Loading: pos\n",
      "INFO:stanza:Loading: pos\n",
      "2022-01-22 21:54:29 INFO: Loading: ner\n",
      "INFO:stanza:Loading: ner\n",
      "2022-01-22 21:54:30 INFO: Done loading processors!\n",
      "INFO:stanza:Done loading processors!\n"
     ]
    },
    {
     "data": {
      "text/plain": [
       "<module 'stanzaNER' from 'd:\\\\Projects\\\\finance_el\\\\preprocess\\\\stanzaNER.py'>"
      ]
     },
     "execution_count": 38,
     "metadata": {},
     "output_type": "execute_result"
    }
   ],
   "source": [
    "import importlib\n",
    "importlib.reload(stanzaNER)"
   ]
  },
  {
   "cell_type": "code",
   "execution_count": 39,
   "metadata": {},
   "outputs": [
    {
     "name": "stderr",
     "output_type": "stream",
     "text": [
      "  0%|          | 0/21 [00:00<?, ?it/s]INFO:root:=====len of doc=====100\n",
      "  5%|▍         | 1/21 [00:11<03:45, 11.30s/it]INFO:root:=====len of doc=====100\n",
      " 10%|▉         | 2/21 [00:23<03:40, 11.58s/it]INFO:root:=====len of doc=====100\n",
      " 14%|█▍        | 3/21 [00:34<03:26, 11.47s/it]INFO:root:=====len of doc=====100\n",
      " 19%|█▉        | 4/21 [00:49<03:37, 12.79s/it]INFO:root:=====len of doc=====100\n",
      " 24%|██▍       | 5/21 [01:02<03:26, 12.91s/it]INFO:root:=====len of doc=====100\n",
      " 29%|██▊       | 6/21 [01:18<03:28, 13.87s/it]INFO:root:=====len of doc=====100\n",
      " 33%|███▎      | 7/21 [01:35<03:31, 15.07s/it]INFO:root:=====len of doc=====100\n",
      " 38%|███▊      | 8/21 [01:59<03:52, 17.92s/it]INFO:root:=====len of doc=====100\n",
      " 43%|████▎     | 9/21 [02:12<03:15, 16.32s/it]INFO:root:=====len of doc=====100\n",
      " 48%|████▊     | 10/21 [02:27<02:55, 15.97s/it]INFO:root:=====len of doc=====100\n",
      " 52%|█████▏    | 11/21 [02:42<02:36, 15.63s/it]INFO:root:=====len of doc=====100\n",
      " 57%|█████▋    | 12/21 [02:54<02:11, 14.56s/it]INFO:root:=====len of doc=====100\n",
      " 62%|██████▏   | 13/21 [03:05<01:48, 13.58s/it]INFO:root:=====len of doc=====100\n",
      " 67%|██████▋   | 14/21 [03:17<01:29, 12.83s/it]INFO:root:=====len of doc=====100\n",
      " 71%|███████▏  | 15/21 [03:29<01:16, 12.80s/it]INFO:root:=====len of doc=====100\n",
      " 76%|███████▌  | 16/21 [03:44<01:07, 13.40s/it]INFO:root:=====len of doc=====100\n",
      " 81%|████████  | 17/21 [04:04<01:01, 15.45s/it]INFO:root:=====len of doc=====100\n",
      " 86%|████████▌ | 18/21 [04:27<00:52, 17.63s/it]INFO:root:=====len of doc=====100\n",
      " 90%|█████████ | 19/21 [04:42<00:33, 16.84s/it]INFO:root:=====len of doc=====100\n",
      " 95%|█████████▌| 20/21 [04:54<00:15, 15.34s/it]INFO:root:=====len of doc=====50\n",
      "100%|██████████| 21/21 [05:00<00:00, 14.33s/it]"
     ]
    },
    {
     "name": "stdout",
     "output_type": "stream",
     "text": [
      "执行成功，耗时: 300.87秒\n"
     ]
    },
    {
     "name": "stderr",
     "output_type": "stream",
     "text": [
      "\n"
     ]
    }
   ],
   "source": [
    "# max_line=df_seg2.shape[0]\n",
    "max_line=2050 # 先测试一下2050行,耗时300.87秒\n",
    "t_per_epoch=100\n",
    "epochs = max_line // t_per_epoch + 1 # 101轮循环完\n",
    "start_t=time.time()\n",
    "for i in tqdm(range(epochs)):\n",
    "    try:\n",
    "        start = i*t_per_epoch\n",
    "        end = min((i+1)*t_per_epoch,max_line)-1\n",
    "        texts=df_seg2.loc[start:end, 'text'].tolist()\n",
    "        entitys=stanzaNER.ner(texts)\n",
    "        ner_partation(df_seg2,start,end, entitys, col='mentions')\n",
    "    except Exception:\n",
    "        logging.error('发生异常，当前start:{}, 耗时:{:.2f}秒'.format(start,time.time() - start_t))\n",
    "print(\"执行成功，耗时: {:.2f}秒\".format(time.time() - start_t))"
   ]
  },
  {
   "cell_type": "code",
   "execution_count": 40,
   "metadata": {},
   "outputs": [
    {
     "data": {
      "text/html": [
       "<div>\n",
       "<style scoped>\n",
       "    .dataframe tbody tr th:only-of-type {\n",
       "        vertical-align: middle;\n",
       "    }\n",
       "\n",
       "    .dataframe tbody tr th {\n",
       "        vertical-align: top;\n",
       "    }\n",
       "\n",
       "    .dataframe thead th {\n",
       "        text-align: right;\n",
       "    }\n",
       "</style>\n",
       "<table border=\"1\" class=\"dataframe\">\n",
       "  <thead>\n",
       "    <tr style=\"text-align: right;\">\n",
       "      <th></th>\n",
       "      <th>src_idx</th>\n",
       "      <th>keywords</th>\n",
       "      <th>text</th>\n",
       "      <th>mentions</th>\n",
       "    </tr>\n",
       "  </thead>\n",
       "  <tbody>\n",
       "    <tr>\n",
       "      <th>0</th>\n",
       "      <td>0</td>\n",
       "      <td>信息泄露</td>\n",
       "      <td>消费火正旺 金融添把柴</td>\n",
       "      <td>O</td>\n",
       "    </tr>\n",
       "    <tr>\n",
       "      <th>1</th>\n",
       "      <td>0</td>\n",
       "      <td>信息泄露</td>\n",
       "      <td>年轻人消费方式的改变和信用消费意识的增强，推动消费金融行业井喷式增长</td>\n",
       "      <td>O</td>\n",
       "    </tr>\n",
       "    <tr>\n",
       "      <th>2</th>\n",
       "      <td>0</td>\n",
       "      <td>信息泄露</td>\n",
       "      <td>“现在工作这么累，想在休息日好好犒劳自己。只要有假期，我就会去世界各地旅行，已经去过韩国、日...</td>\n",
       "      <td>厄瓜多尔/GPE;上海某律所/ORG;塞班岛/GPE;以色列/GPE;日本/GPE;缅甸/G...</td>\n",
       "    </tr>\n",
       "    <tr>\n",
       "      <th>3</th>\n",
       "      <td>0</td>\n",
       "      <td>信息泄露</td>\n",
       "      <td>80后、90后等年轻一代消费方式的改变和信用消费意识的增强，是近些年我国消费金融行业蓬勃发展...</td>\n",
       "      <td>沪江网校/ORG;天津/GPE;山东临沂/GPE;京东/GPE;刘明露/PERSON;淘宝/ORG</td>\n",
       "    </tr>\n",
       "    <tr>\n",
       "      <th>4</th>\n",
       "      <td>0</td>\n",
       "      <td>信息泄露</td>\n",
       "      <td>银保监会近日下发通知，要求积极发展消费金融，适应多样化、多层次消费需求，提供和改进差异化金融...</td>\n",
       "      <td>银保监会/ORG;中国人民大学重阳金融研究院/ORG;董希淼/PERSON</td>\n",
       "    </tr>\n",
       "  </tbody>\n",
       "</table>\n",
       "</div>"
      ],
      "text/plain": [
       "   src_idx keywords                                               text  \\\n",
       "0        0     信息泄露                                        消费火正旺 金融添把柴   \n",
       "1        0     信息泄露                 年轻人消费方式的改变和信用消费意识的增强，推动消费金融行业井喷式增长   \n",
       "2        0     信息泄露  “现在工作这么累，想在休息日好好犒劳自己。只要有假期，我就会去世界各地旅行，已经去过韩国、日...   \n",
       "3        0     信息泄露  80后、90后等年轻一代消费方式的改变和信用消费意识的增强，是近些年我国消费金融行业蓬勃发展...   \n",
       "4        0     信息泄露  银保监会近日下发通知，要求积极发展消费金融，适应多样化、多层次消费需求，提供和改进差异化金融...   \n",
       "\n",
       "                                            mentions  \n",
       "0                                                  O  \n",
       "1                                                  O  \n",
       "2  厄瓜多尔/GPE;上海某律所/ORG;塞班岛/GPE;以色列/GPE;日本/GPE;缅甸/G...  \n",
       "3  沪江网校/ORG;天津/GPE;山东临沂/GPE;京东/GPE;刘明露/PERSON;淘宝/ORG  \n",
       "4              银保监会/ORG;中国人民大学重阳金融研究院/ORG;董希淼/PERSON  "
      ]
     },
     "execution_count": 40,
     "metadata": {},
     "output_type": "execute_result"
    }
   ],
   "source": [
    "df_seg2.head()"
   ]
  },
  {
   "cell_type": "code",
   "execution_count": 41,
   "metadata": {},
   "outputs": [
    {
     "data": {
      "text/html": [
       "<div>\n",
       "<style scoped>\n",
       "    .dataframe tbody tr th:only-of-type {\n",
       "        vertical-align: middle;\n",
       "    }\n",
       "\n",
       "    .dataframe tbody tr th {\n",
       "        vertical-align: top;\n",
       "    }\n",
       "\n",
       "    .dataframe thead th {\n",
       "        text-align: right;\n",
       "    }\n",
       "</style>\n",
       "<table border=\"1\" class=\"dataframe\">\n",
       "  <thead>\n",
       "    <tr style=\"text-align: right;\">\n",
       "      <th></th>\n",
       "      <th>src_idx</th>\n",
       "      <th>keywords</th>\n",
       "      <th>text</th>\n",
       "      <th>mentions</th>\n",
       "    </tr>\n",
       "  </thead>\n",
       "  <tbody>\n",
       "    <tr>\n",
       "      <th>2047</th>\n",
       "      <td>79</td>\n",
       "      <td>战略合作</td>\n",
       "      <td>紧随其后的是宝钢股份，在去年全年也大手笔委托银行理财产品，去年认购总金额已经达到490.2亿...</td>\n",
       "      <td>天茂集团/ORG;宝钢股份/ORG</td>\n",
       "    </tr>\n",
       "    <tr>\n",
       "      <th>2048</th>\n",
       "      <td>79</td>\n",
       "      <td>战略合作</td>\n",
       "      <td>另外，还有欧普照明等21家上市公司去年购买银行理财的金额均超过了100亿元。实际上，从这委托...</td>\n",
       "      <td>欧普照明/ORG</td>\n",
       "    </tr>\n",
       "    <tr>\n",
       "      <th>2049</th>\n",
       "      <td>79</td>\n",
       "      <td>战略合作</td>\n",
       "      <td>从认购记录中也能够发现，上市公司购买的理财产品主要分为三类：一是短期银行理财产品，一般期限在...</td>\n",
       "      <td>O</td>\n",
       "    </tr>\n",
       "    <tr>\n",
       "      <th>2050</th>\n",
       "      <td>79</td>\n",
       "      <td>战略合作</td>\n",
       "      <td>而随着银行理财收益率的不断下降，上市公司的闲置资金又去往何方？有业内人士分析称，随着A股市场...</td>\n",
       "      <td>NaN</td>\n",
       "    </tr>\n",
       "    <tr>\n",
       "      <th>2051</th>\n",
       "      <td>79</td>\n",
       "      <td>战略合作</td>\n",
       "      <td>(责编：勾雅文、李�P)</td>\n",
       "      <td>NaN</td>\n",
       "    </tr>\n",
       "    <tr>\n",
       "      <th>2052</th>\n",
       "      <td>80</td>\n",
       "      <td>战略合作</td>\n",
       "      <td>平安健康（检测）中心进驻襄阳 高品质健康检测服务温暖冬季</td>\n",
       "      <td>NaN</td>\n",
       "    </tr>\n",
       "  </tbody>\n",
       "</table>\n",
       "</div>"
      ],
      "text/plain": [
       "      src_idx keywords                                               text  \\\n",
       "2047       79     战略合作  紧随其后的是宝钢股份，在去年全年也大手笔委托银行理财产品，去年认购总金额已经达到490.2亿...   \n",
       "2048       79     战略合作  另外，还有欧普照明等21家上市公司去年购买银行理财的金额均超过了100亿元。实际上，从这委托...   \n",
       "2049       79     战略合作  从认购记录中也能够发现，上市公司购买的理财产品主要分为三类：一是短期银行理财产品，一般期限在...   \n",
       "2050       79     战略合作  而随着银行理财收益率的不断下降，上市公司的闲置资金又去往何方？有业内人士分析称，随着A股市场...   \n",
       "2051       79     战略合作                                       (责编：勾雅文、李�P)   \n",
       "2052       80     战略合作                       平安健康（检测）中心进驻襄阳 高品质健康检测服务温暖冬季   \n",
       "\n",
       "               mentions  \n",
       "2047  天茂集团/ORG;宝钢股份/ORG  \n",
       "2048           欧普照明/ORG  \n",
       "2049                  O  \n",
       "2050                NaN  \n",
       "2051                NaN  \n",
       "2052                NaN  "
      ]
     },
     "execution_count": 41,
     "metadata": {},
     "output_type": "execute_result"
    }
   ],
   "source": [
    "df_seg2.iloc[2047:2053]"
   ]
  },
  {
   "cell_type": "code",
   "execution_count": 44,
   "metadata": {},
   "outputs": [
    {
     "name": "stderr",
     "output_type": "stream",
     "text": [
      "0it [00:00, ?it/s]\n"
     ]
    },
    {
     "ename": "AttributeError",
     "evalue": "module 'stanzaNER' has no attribute 'ner_single'",
     "output_type": "error",
     "traceback": [
      "\u001b[1;31m---------------------------------------------------------------------------\u001b[0m",
      "\u001b[1;31mAttributeError\u001b[0m                            Traceback (most recent call last)",
      "Input \u001b[1;32mIn [44]\u001b[0m, in \u001b[0;36m<module>\u001b[1;34m\u001b[0m\n\u001b[0;32m      3\u001b[0m \u001b[38;5;28;01mimport\u001b[39;00m \u001b[38;5;21;01mstanzaNER\u001b[39;00m\n\u001b[0;32m      4\u001b[0m \u001b[38;5;28;01mfor\u001b[39;00m index,row \u001b[38;5;129;01min\u001b[39;00m tqdm(df_seg2\u001b[38;5;241m.\u001b[39miterrows()):\n\u001b[1;32m----> 5\u001b[0m     df_seg2\u001b[38;5;241m.\u001b[39mloc[index,\u001b[38;5;124m'\u001b[39m\u001b[38;5;124mmentions\u001b[39m\u001b[38;5;124m'\u001b[39m]\u001b[38;5;241m=\u001b[39m\u001b[43mstanzaNER\u001b[49m\u001b[38;5;241;43m.\u001b[39;49m\u001b[43mner_single\u001b[49m(row[\u001b[38;5;124m'\u001b[39m\u001b[38;5;124mtext\u001b[39m\u001b[38;5;124m'\u001b[39m])\n\u001b[0;32m      6\u001b[0m df_seg2\u001b[38;5;241m.\u001b[39mhead()\n",
      "\u001b[1;31mAttributeError\u001b[0m: module 'stanzaNER' has no attribute 'ner_single'"
     ]
    }
   ],
   "source": [
    "from tqdm import tqdm\n",
    "# from stanzaNER import ner_single\n",
    "import stanzaNER\n",
    "for index,row in tqdm(df_seg2.iterrows()):\n",
    "    df_seg2.loc[index,'mentions']=stanzaNER.ner_single(row['text'])\n",
    "df_seg2.head()"
   ]
  },
  {
   "cell_type": "code",
   "execution_count": null,
   "metadata": {},
   "outputs": [],
   "source": [
    "from stanzaNER import ner\n",
    "import time\n",
    "start_t=time.time()\n",
    "all_texts=all_texts[:500]\n",
    "all_entitys=ner(all_texts)\n",
    "print(\"NER耗时: {:.2f}秒\".format(time.time() - start_t))\n",
    "df2=pd.DataFrame({'text':all_texts,'entitys':all_entitys})\n",
    "df2.head()"
   ]
  },
  {
   "cell_type": "code",
   "execution_count": null,
   "metadata": {},
   "outputs": [],
   "source": [
    "df2.to_csv('test_500.csv',index=True,sep='\\t')"
   ]
  },
  {
   "cell_type": "code",
   "execution_count": null,
   "metadata": {},
   "outputs": [],
   "source": []
  },
  {
   "cell_type": "markdown",
   "metadata": {},
   "source": []
  }
 ],
 "metadata": {
  "interpreter": {
   "hash": "de3a3e6302a6ec2bf6fb68daec7405c317c5f4256b7b48badb1105cb3d612cf9"
  },
  "kernelspec": {
   "display_name": "Python 3.9.9 64-bit ('cw': conda)",
   "language": "python",
   "name": "python3"
  },
  "language_info": {
   "codemirror_mode": {
    "name": "ipython",
    "version": 3
   },
   "file_extension": ".py",
   "mimetype": "text/x-python",
   "name": "python",
   "nbconvert_exporter": "python",
   "pygments_lexer": "ipython3",
   "version": "3.9.9"
  },
  "orig_nbformat": 4
 },
 "nbformat": 4,
 "nbformat_minor": 2
}
