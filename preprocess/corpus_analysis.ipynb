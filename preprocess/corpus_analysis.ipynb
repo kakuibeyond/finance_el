{
 "cells": [
  {
   "cell_type": "code",
   "execution_count": 1,
   "metadata": {},
   "outputs": [],
   "source": [
    "import logging\n",
    "logging.basicConfig(filename='logger.log', level=logging.INFO)\n",
    "import pandas as pd"
   ]
  },
  {
   "cell_type": "code",
   "execution_count": 2,
   "metadata": {},
   "outputs": [
    {
     "data": {
      "text/html": [
       "<div>\n",
       "<style scoped>\n",
       "    .dataframe tbody tr th:only-of-type {\n",
       "        vertical-align: middle;\n",
       "    }\n",
       "\n",
       "    .dataframe tbody tr th {\n",
       "        vertical-align: top;\n",
       "    }\n",
       "\n",
       "    .dataframe thead th {\n",
       "        text-align: right;\n",
       "    }\n",
       "</style>\n",
       "<table border=\"1\" class=\"dataframe\">\n",
       "  <thead>\n",
       "    <tr style=\"text-align: right;\">\n",
       "      <th></th>\n",
       "      <th>src_idx</th>\n",
       "      <th>keywords</th>\n",
       "      <th>text</th>\n",
       "      <th>mention</th>\n",
       "      <th>entity_list</th>\n",
       "      <th>annotation</th>\n",
       "    </tr>\n",
       "  </thead>\n",
       "  <tbody>\n",
       "    <tr>\n",
       "      <th>0</th>\n",
       "      <td>0</td>\n",
       "      <td>信息泄露</td>\n",
       "      <td>“现在工作这么累，想在休息日好好犒劳自己。只要有假期，我就会去世界各地旅行，已经去过韩国、日...</td>\n",
       "      <td>日本/GPE</td>\n",
       "      <td>{1: '日本（东亚国家）', 2: '日本（中国旅游出版社图书）', 3: '日本（山名）...</td>\n",
       "      <td>0</td>\n",
       "    </tr>\n",
       "    <tr>\n",
       "      <th>1</th>\n",
       "      <td>0</td>\n",
       "      <td>信息泄露</td>\n",
       "      <td>“现在工作这么累，想在休息日好好犒劳自己。只要有假期，我就会去世界各地旅行，已经去过韩国、日...</td>\n",
       "      <td>韩国/GPE</td>\n",
       "      <td>{1: '韩国（周朝诸侯国）', 2: '韩国（大宝石出版社图书）', 3: '韩国（社会科...</td>\n",
       "      <td>0</td>\n",
       "    </tr>\n",
       "    <tr>\n",
       "      <th>2</th>\n",
       "      <td>0</td>\n",
       "      <td>信息泄露</td>\n",
       "      <td>北京某事业单位职工王晶去年从银行借了一笔消费贷款，额度100万元，贷款直接到账方便支取。今年...</td>\n",
       "      <td>王晶/PERSON</td>\n",
       "      <td>{1: '王晶（东北师范大学政法学院）', 2: '王晶（山东艺术学院音乐学院教师）', 3...</td>\n",
       "      <td>0</td>\n",
       "    </tr>\n",
       "    <tr>\n",
       "      <th>3</th>\n",
       "      <td>0</td>\n",
       "      <td>信息泄露</td>\n",
       "      <td>北京某事业单位职工王晶去年从银行借了一笔消费贷款，额度100万元，贷款直接到账方便支取。今年...</td>\n",
       "      <td>北京/GPE</td>\n",
       "      <td>{1: '北京（歌手郝云专辑）', 2: '北京（北宋四京之一北京大名府）', 3: '北京...</td>\n",
       "      <td>0</td>\n",
       "    </tr>\n",
       "    <tr>\n",
       "      <th>4</th>\n",
       "      <td>0</td>\n",
       "      <td>信息泄露</td>\n",
       "      <td>“当前居民住房杠杆率较高，需要密切关注过度借贷导致的居民杠杆率继续上升的问题。此前还有部分消...</td>\n",
       "      <td>何飞/PERSON</td>\n",
       "      <td>{1: '何飞（塘红乡党委统委、副乡长）', 2: '何飞（四川省新津县兴义镇党委委员）',...</td>\n",
       "      <td>0</td>\n",
       "    </tr>\n",
       "  </tbody>\n",
       "</table>\n",
       "</div>"
      ],
      "text/plain": [
       "   src_idx keywords                                               text  \\\n",
       "0        0     信息泄露  “现在工作这么累，想在休息日好好犒劳自己。只要有假期，我就会去世界各地旅行，已经去过韩国、日...   \n",
       "1        0     信息泄露  “现在工作这么累，想在休息日好好犒劳自己。只要有假期，我就会去世界各地旅行，已经去过韩国、日...   \n",
       "2        0     信息泄露  北京某事业单位职工王晶去年从银行借了一笔消费贷款，额度100万元，贷款直接到账方便支取。今年...   \n",
       "3        0     信息泄露  北京某事业单位职工王晶去年从银行借了一笔消费贷款，额度100万元，贷款直接到账方便支取。今年...   \n",
       "4        0     信息泄露  “当前居民住房杠杆率较高，需要密切关注过度借贷导致的居民杠杆率继续上升的问题。此前还有部分消...   \n",
       "\n",
       "     mention                                        entity_list  annotation  \n",
       "0     日本/GPE  {1: '日本（东亚国家）', 2: '日本（中国旅游出版社图书）', 3: '日本（山名）...           0  \n",
       "1     韩国/GPE  {1: '韩国（周朝诸侯国）', 2: '韩国（大宝石出版社图书）', 3: '韩国（社会科...           0  \n",
       "2  王晶/PERSON  {1: '王晶（东北师范大学政法学院）', 2: '王晶（山东艺术学院音乐学院教师）', 3...           0  \n",
       "3     北京/GPE  {1: '北京（歌手郝云专辑）', 2: '北京（北宋四京之一北京大名府）', 3: '北京...           0  \n",
       "4  何飞/PERSON  {1: '何飞（塘红乡党委统委、副乡长）', 2: '何飞（四川省新津县兴义镇党委委员）',...           0  "
      ]
     },
     "execution_count": 2,
     "metadata": {},
     "output_type": "execute_result"
    }
   ],
   "source": [
    "# 读取\n",
    "before_anno_dir='..\\data\\seg_anno.csv'\n",
    "df=pd.read_csv(before_anno_dir,sep='\\t',index_col=0)\n",
    "df.head()"
   ]
  },
  {
   "cell_type": "code",
   "execution_count": 5,
   "metadata": {},
   "outputs": [
    {
     "name": "stdout",
     "output_type": "stream",
     "text": [
      "战略合作      11240\n",
      "违规担保       2303\n",
      "禁入         2263\n",
      "占用资金       2143\n",
      "市场禁入       2143\n",
      "非法集资       1669\n",
      "重大遗漏       1420\n",
      "误导性陈述      1381\n",
      "责令整改       1274\n",
      "公开谴责       1270\n",
      "信息泄露       1119\n",
      "监管关注函      1119\n",
      "隐瞒关联关系      525\n",
      "强制摘牌        358\n",
      "虚报注册资本      348\n",
      "秋后算账        290\n",
      "票据违法         84\n",
      "股东虚假出资       41\n",
      "Name: keywords, dtype: int64\n"
     ]
    }
   ],
   "source": [
    "kw_cnts=df['keywords'].value_counts()# 统计关键词文档数量\n",
    "print(kw_cnts)\n",
    "kw_cnts.to_excel('../data/eda/kw_cnts.xlsx',sheet_name='关键词分布')"
   ]
  },
  {
   "cell_type": "code",
   "execution_count": 12,
   "metadata": {},
   "outputs": [],
   "source": [
    "# 合并后缀为2的关键词\n",
    "df['keywords']=df['keywords'].apply(lambda x: x[:-1] if x.endswith('2') else x)"
   ]
  },
  {
   "cell_type": "code",
   "execution_count": 13,
   "metadata": {},
   "outputs": [
    {
     "data": {
      "text/plain": [
       "信息泄露    6\n",
       "Name: keywords, dtype: int64"
      ]
     },
     "execution_count": 13,
     "metadata": {},
     "output_type": "execute_result"
    }
   ],
   "source": [
    "df['keywords'].value_counts()"
   ]
  },
  {
   "cell_type": "code",
   "execution_count": null,
   "metadata": {},
   "outputs": [],
   "source": [
    "# 关键词分布图\n",
    "import seaborn as sns\n",
    "sns.set_style('whitegrid',{'font.sans-serif':['simhei','Arial']})\n",
    "sns.countplot(y=df['keywords'])"
   ]
  },
  {
   "cell_type": "code",
   "execution_count": null,
   "metadata": {},
   "outputs": [],
   "source": [
    "df['len_text'].describe() # 文本长度分布"
   ]
  },
  {
   "cell_type": "code",
   "execution_count": 14,
   "metadata": {},
   "outputs": [],
   "source": [
    "# df.to_csv('fin_articles.csv',encoding='utf-8',index=0)\n",
    "df.to_csv('test_fin_articles.csv',encoding='utf-8',index=0)"
   ]
  },
  {
   "cell_type": "code",
   "execution_count": 15,
   "metadata": {},
   "outputs": [
    {
     "data": {
      "text/html": [
       "<div>\n",
       "<style scoped>\n",
       "    .dataframe tbody tr th:only-of-type {\n",
       "        vertical-align: middle;\n",
       "    }\n",
       "\n",
       "    .dataframe tbody tr th {\n",
       "        vertical-align: top;\n",
       "    }\n",
       "\n",
       "    .dataframe thead th {\n",
       "        text-align: right;\n",
       "    }\n",
       "</style>\n",
       "<table border=\"1\" class=\"dataframe\">\n",
       "  <thead>\n",
       "    <tr style=\"text-align: right;\">\n",
       "      <th></th>\n",
       "      <th>src_web</th>\n",
       "      <th>keywords</th>\n",
       "      <th>text</th>\n",
       "      <th>entities</th>\n",
       "      <th>len_text</th>\n",
       "    </tr>\n",
       "  </thead>\n",
       "  <tbody>\n",
       "    <tr>\n",
       "      <th>0</th>\n",
       "      <td>人民网产经</td>\n",
       "      <td>信息泄露</td>\n",
       "      <td>消费火正旺 金融添把柴\\n年轻人消费方式的改变和信用消费意识的增强，推动消费金融行业井喷式增...</td>\n",
       "      <td>[{'text': '韩国', 'type': 'GPE', 'start_char': 8...</td>\n",
       "      <td>3241</td>\n",
       "    </tr>\n",
       "    <tr>\n",
       "      <th>1</th>\n",
       "      <td>人民网产经</td>\n",
       "      <td>信息泄露</td>\n",
       "      <td>又一老人被骗280万元！这种诈骗来势凶猛 务必学会辨认\\n广州市公安局9月2日发出紧急通报：...</td>\n",
       "      <td>[{'text': '280万元', 'type': 'MONEY', 'start_cha...</td>\n",
       "      <td>1195</td>\n",
       "    </tr>\n",
       "    <tr>\n",
       "      <th>2</th>\n",
       "      <td>人民网产经</td>\n",
       "      <td>信息泄露</td>\n",
       "      <td>月花两三千，过得像月入三五万？\"租一族\"崛起！但真的划算吗？\\n原标题：月花两三千，过得像月...</td>\n",
       "      <td>[{'text': '三千', 'type': 'CARDINAL', 'start_cha...</td>\n",
       "      <td>2501</td>\n",
       "    </tr>\n",
       "    <tr>\n",
       "      <th>3</th>\n",
       "      <td>人民网产经</td>\n",
       "      <td>信息泄露</td>\n",
       "      <td>2020年我国数据总量全球占比将达20% 信息基础设施保护是大数据安全关键\\n原标题：202...</td>\n",
       "      <td>[{'text': '2020年', 'type': 'DATE', 'start_char...</td>\n",
       "      <td>1926</td>\n",
       "    </tr>\n",
       "    <tr>\n",
       "      <th>4</th>\n",
       "      <td>人民网产经</td>\n",
       "      <td>信息泄露</td>\n",
       "      <td>1秒钟能下载一部高清电影 5G来了！你准备好了吗\\n原标题：5G来了！你准备好了吗\\n5月1...</td>\n",
       "      <td>[{'text': '1秒', 'type': 'TIME', 'start_char': ...</td>\n",
       "      <td>2030</td>\n",
       "    </tr>\n",
       "  </tbody>\n",
       "</table>\n",
       "</div>"
      ],
      "text/plain": [
       "  src_web keywords                                               text  \\\n",
       "0   人民网产经     信息泄露  消费火正旺 金融添把柴\\n年轻人消费方式的改变和信用消费意识的增强，推动消费金融行业井喷式增...   \n",
       "1   人民网产经     信息泄露  又一老人被骗280万元！这种诈骗来势凶猛 务必学会辨认\\n广州市公安局9月2日发出紧急通报：...   \n",
       "2   人民网产经     信息泄露  月花两三千，过得像月入三五万？\"租一族\"崛起！但真的划算吗？\\n原标题：月花两三千，过得像月...   \n",
       "3   人民网产经     信息泄露  2020年我国数据总量全球占比将达20% 信息基础设施保护是大数据安全关键\\n原标题：202...   \n",
       "4   人民网产经     信息泄露  1秒钟能下载一部高清电影 5G来了！你准备好了吗\\n原标题：5G来了！你准备好了吗\\n5月1...   \n",
       "\n",
       "                                            entities  len_text  \n",
       "0  [{'text': '韩国', 'type': 'GPE', 'start_char': 8...      3241  \n",
       "1  [{'text': '280万元', 'type': 'MONEY', 'start_cha...      1195  \n",
       "2  [{'text': '三千', 'type': 'CARDINAL', 'start_cha...      2501  \n",
       "3  [{'text': '2020年', 'type': 'DATE', 'start_char...      1926  \n",
       "4  [{'text': '1秒', 'type': 'TIME', 'start_char': ...      2030  "
      ]
     },
     "execution_count": 15,
     "metadata": {},
     "output_type": "execute_result"
    }
   ],
   "source": [
    "df2=pd.read_csv('test_fin_articles.csv',encoding='utf8')\n",
    "df2.head()"
   ]
  },
  {
   "cell_type": "code",
   "execution_count": null,
   "metadata": {},
   "outputs": [],
   "source": [
    "# 抽取实体"
   ]
  }
 ],
 "metadata": {
  "interpreter": {
   "hash": "47bf24be694c80732341e95329701f864584ed979597816d020febe81b528c66"
  },
  "kernelspec": {
   "display_name": "Python 3 (ipykernel)",
   "language": "python",
   "name": "python3"
  },
  "language_info": {
   "codemirror_mode": {
    "name": "ipython",
    "version": 3
   },
   "file_extension": ".py",
   "mimetype": "text/x-python",
   "name": "python",
   "nbconvert_exporter": "python",
   "pygments_lexer": "ipython3",
   "version": "3.9.9"
  }
 },
 "nbformat": 4,
 "nbformat_minor": 2
}
