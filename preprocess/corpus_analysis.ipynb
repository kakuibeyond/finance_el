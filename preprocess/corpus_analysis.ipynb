{
 "cells": [
  {
   "cell_type": "code",
   "execution_count": 5,
   "metadata": {},
   "outputs": [],
   "source": [
    "import logging\n",
    "logging.basicConfig(filename='logger.log', level=logging.INFO)"
   ]
  },
  {
   "cell_type": "code",
   "execution_count": 6,
   "metadata": {},
   "outputs": [],
   "source": [
    "import stanza\n",
    "zh_nlp = stanza.Pipeline('zh', processors='tokenize,ner', use_gpu=False)\n",
    "def ner(text):\n",
    "    logging.info('len of text: {}'.format(len(text)))\n",
    "    doc = zh_nlp(text)\n",
    "    entities=doc.ents\n",
    "    print('len of origin entities size:',len(entities))\n",
    "    return [x.to_dict() for x in entities if len(x.to_dict()['text'])>1]"
   ]
  },
  {
   "cell_type": "code",
   "execution_count": 7,
   "metadata": {},
   "outputs": [
    {
     "name": "stdout",
     "output_type": "stream",
     "text": [
      "人民网产经begin=====\n",
      "len of origin entities size: 105\n",
      "len of origin entities size: 45\n",
      "len of origin entities size: 94\n",
      "len of origin entities size: 70\n",
      "len of origin entities size: 68\n",
      "len of origin entities size: 101\n",
      "test break===\n",
      "all files has been processed=====\n"
     ]
    }
   ],
   "source": [
    "import os\n",
    "data=[]\n",
    "base_path='D:\\Projects\\金融事件抽取项目\\金融事件抽取\\所有爬虫语料'\n",
    "def scan_dir(base_path):\n",
    "    for web_name in os.listdir(base_path):\n",
    "        logging.info(\"{} begin===\".format(web_name))\n",
    "        web_path=os.path.join(base_path, web_name)\n",
    "        for k in os.listdir(web_path):# 关键词\n",
    "            # print('current keyword:'+k)\n",
    "            k_path=os.path.join(web_path, k)\n",
    "            for file_name in os.listdir(k_path): # 文档集合\n",
    "                final_path=os.path.join(k_path, file_name)\n",
    "                with open(final_path,'r',encoding='utf-8', errors='ignore') as f:\n",
    "                    content=f.read().strip()\n",
    "                    if len(content)>0:\n",
    "                        entities=ner(content)\n",
    "                        data.append([web_name,k,content,entities])\n",
    "                if len(data)>5:\n",
    "                    print('test break===')\n",
    "                    return\n",
    "        print(web_name+'end=====')\n",
    "scan_dir(base_path)\n",
    "print('all files has been processed=====')"
   ]
  },
  {
   "cell_type": "code",
   "execution_count": 8,
   "metadata": {},
   "outputs": [
    {
     "name": "stdout",
     "output_type": "stream",
     "text": [
      "6\n"
     ]
    },
    {
     "data": {
      "text/plain": [
       "[['人民网产经',\n",
       "  '信息泄露',\n",
       "  '消费火正旺\\xa0金融添把柴\\n年轻人消费方式的改变和信用消费意识的增强，推动消费金融行业井喷式增长\\n“现在工作这么累，想在休息日好好犒劳自己。只要有假期，我就会去世界各地旅行，已经去过韩国、日本、缅甸和好几个欧洲国家，土耳其、以色列、厄瓜多尔的加拉帕戈斯群岛都在我未来的旅行清单上。”上海某律所的年轻律师吴辰伟对记者说，尽管自己收入还不错，但动辄两三万元的旅行花费也让他觉得有些头疼。所以今年“十一”假期和女友去塞班岛度假，吴辰伟在去哪儿旅行网预订时就选择了分期付款。“包含往返机票和五星级酒店住宿的7天塞班岛自由行，如果一次性付款，两个人总价是22100多元，我选择的是分12期付款，每期还1960元左右，这种付款方式为我减轻了用钱压力。不一定赚多少才能花多少，‘先消费后付款’很受我们年轻人欢迎。”吴辰伟说。\\n80后、90后等年轻一代消费方式的改变和信用消费意识的增强，是近些年我国消费金融行业蓬勃发展的重要动力。来自山东临沂的刘明露今年24岁，在天津一家创业公司担任行政助理。“我平时喜欢看日本动漫和综艺，慢慢地对日语产生了兴趣。但是我收入不高，扣除房租和日常开销后，工资所剩有限，没办法一次性付清学日语的钱。”刘明露说，近两年她喜欢上了“先消费后付款”的模式。去年她用蚂蚁花呗在淘宝上分24期购买了一部华为P10手机，今年3月用招行信用卡刷了一台联想笔记本电脑。“这次我报名沪江网校的日语课用的是京东白条，分6期免息，每月还款510元。以后我还想学学商务英语，只要在自己的承受范围内且能及时还款，花未来的钱满足今天的愿望，我觉得是一笔划算的买卖。”\\n银保监会近日下发通知，要求积极发展消费金融，适应多样化、多层次消费需求，提供和改进差异化金融产品与服务，支持发展消费信贷，创新金融服务方式，积极满足旅游、教育、文化、健康、养老等升级型消费的金融需求。中国人民大学重阳金融研究院高级研究员董希淼说，与之前的政策措施相比，“积极发展消费金融”是比较值得注意的信号。扩大内需是下半年经济工作的重要着力点，近段时间消费增速有所回落，应着力发挥金融对消费的促进和提升作用。\\n苏宁金融研究院互联网金融研究中心主任薛洪言认为，正是近期的消费升级大大促进了消费金融的发展；反过来，消费金融的快速发展，也会进一步助推居民消费提质升级。尤其是从行业看，借助金融科技的驱动，近年来消费金融产品的用户体验持续提升、用户门槛不断下沉，推动了一些消费领域升级迭代。\\n消费金融市场机构众多，层次不一，部分平台风控能力不强，造成过度借贷、信贷流向不清等问题，衍生出一些行业乱象\\n消费金融市场需求强劲喷发，加之金融科技的进步和社会征信体系的完善，为消费金融行业提供了技术支撑，消费金融机构如雨后春笋般发展起来，逐步形成了商业银行、消费金融公司、互联网消费金融平台、电商系消费金融等多机构林立的局面。\\n北京某事业单位职工王晶去年从银行借了一笔消费贷款，额度100万元，贷款直接到账方便支取。今年贷款到期后，王晶想再从银行借款就比之前麻烦很多，不但需要提交所有的消费凭据，银行还要求将钱直接打给提供产品和服务的公司。“这么麻烦还是算了吧。”王晶把那笔贷款还了，就去别的银行咨询。问了一圈下来，大抵都是同样的要求，贷款额度降低，还得要求提供发票，比较一圈后，她在一家银行申请了30万元的贷款，贷款利率也比去年上升不少。“好在我提前几天办完所有手续贷完了款，据说这几天贷款利率还有上升。”王晶说。\\n“当前居民住房杠杆率较高，需要密切关注过度借贷导致的居民杠杆率继续上升的问题。此前还有部分消费贷款有违规流入楼市的情况，消费金融风险控制趋严。”交通银行金融研究中心高级研究员何飞说，由于互联网消费金融类产品出现较快、品种较多，给人们造成消费金融大爆发的错觉。但消费贷款规模并不大，在居民总体贷款中占比较低，还需加以引导，促进其规范发展。\\n消费金融市场准入门槛较低，一些非正规从业机构鱼龙混杂且竞争激烈，部分平台风险控制能力不强、不严，一定程度上助推了居民杠杆率升高，造成信贷流向不清、多头借贷等问题并衍生出隐私泄露、变相收费等一系列行业乱象。\\n个人信息泄露让用户忧心。“没有贷款却收到了催收短信”“没有注册过却有我的个人信息”，不少消费者曾遭遇过这样的困扰，他们的联系方式、通讯地址和身份证等信息可能被冒名在分期购物平台上注册，而产生的逾期费用会直接影响到购房、购车甚至找工作。\\n在江苏一家医院工作的赵景明陆续收到某家分期平台的催款短信，但赵景明从未注册过且未在该平台购买过任何商品。经过投诉，客服表示会备注提交给有关业务部门核实，但此后便没有了下文。更有在校大学生反映，某分期平台的校园经理利用其身份证件并伪造其签名，通过平台审核后，分期购买一台iPad并借出2000元现金。\\n花样百出的变相收费让消费者很无奈。除高额利息外，各类消费贷款中往往还包括逾期违约金、客户服务费、增值服务费等各种名目的费用，很多消费者事先并不知情或因缺少相关金融知识而中招。例如，某现金贷平台被曝出不经客户同意，私自将12期借款展期改为24期、36期，增加借款人利息支出。还有的借款人在该平台贷款，原本本息只有6000多元，但在已经正常还款4000多元后，因一次逾期被平台索要高额滞纳金，还款总额竟达8000多元。\\n北京消费者胡杨今年5月准备购买一部价值3100多元的一款手机，在朝阳大悦城附近一个手机店里，工作人员介绍说通过某消费金融平台分期购买手机并不需承担很高利息，在其指导下，胡杨签订了合同。胡杨事后回忆：“签订合同时，工作人员没让我查看还款方式、每月还款金额等信息就把合同全部拿走了，当时工作人员只告诉我需要支付500元首付，然后24期每期还款129元。”他据此计算两年共要还款3600多元。可还了几个月款后他发现，实际需还款5500多元。\\n必须坚持“开正门”“堵偏门”，形成金融创新促进消费升级的良性循环\\n薛洪言说，受消费观念、收入增长预期、信用环境成熟度甚至城镇化水平、人口结构等多方面因素影响，消费金融的发展应是一个渐进和持续的过程，市场需要“文火慢炖”，持续培育。前两年行业高速发展，在资本要求、风口思维等因素的裹挟下，不少消费金融机构更多地追求规模增长和赚快钱，导致不少细分市场机构扎堆、乱象丛生。当前监管趋严，消费金融行业的变相收费、暴力催收、信息泄露等乱象已有所缓解，但不同细分领域的发展水平参差不齐，部分消费金融平台搅浑了市场，有“劣币驱逐良币”的现象。因此首先要净化市场，为一些需要长期积淀、渐进布局的消费场景提供更多消费金融支持。\\n针对过度借贷可能导致的居民杠杆率较快上升的问题，何飞说，既要密切关注互联网消费金融的发展，取缔不具备贷款资格的房贷机构，严厉打击那些故意放纵和诱导消费者多头借贷、借新还旧、乱用借款的从业机构，又要通过各类渠道加强宣传教育，引导消费群体理性借贷消费，尤其要关注长尾人群的信贷需求和借款现状，形成“贷得出，收得回，管得住”的局面。\\n何飞认为，解决信贷流向不清的问题，在消费贷款种类上应鼓励发展商品贷，有效管控现金贷，加大对现金贷的流向审核，防止消费贷流入股市、楼市，必要时应要求借款人出具借款使用证明。针对骗贷、多头借贷等，首先要加快消费信贷类从业机构接入百行征信或人行征信的进程，加强信贷违约、逃废债人群信息披露，同时加大处罚力度，让失信者寸步难行。其次，应在行业间建立信息共享机制，通过组建信贷机构联盟，约束多头借贷行为。\\n何飞说，形成金融创新促进消费升级的良性循环，关键还是要坚持“开正门”“堵偏门”。既要鼓励各正规消费金融机构加大力度，以满足更丰富的消费场景为出发点推进金融产品创新，也要始终按照金融业务必须持牌经营的原则，推动不具备从业资质的平台加快市场出清，坚决遏制打着互联网创新旗号、披着技术外衣违法违规开展金融业务的行为，实现正本清源和良性发展。\\n(责编：杜燕飞、董菁)',\n",
       "  [{'text': '韩国', 'type': 'GPE', 'start_char': 89, 'end_char': 91},\n",
       "   {'text': '日本', 'type': 'GPE', 'start_char': 92, 'end_char': 94},\n",
       "   {'text': '缅甸', 'type': 'GPE', 'start_char': 95, 'end_char': 97},\n",
       "   {'text': '欧洲', 'type': 'LOC', 'start_char': 101, 'end_char': 103},\n",
       "   {'text': '土耳其', 'type': 'GPE', 'start_char': 106, 'end_char': 109},\n",
       "   {'text': '以色列', 'type': 'GPE', 'start_char': 110, 'end_char': 113},\n",
       "   {'text': '厄瓜多尔', 'type': 'GPE', 'start_char': 114, 'end_char': 118},\n",
       "   {'text': '加拉帕戈斯群岛', 'type': 'LOC', 'start_char': 119, 'end_char': 126},\n",
       "   {'text': '上海', 'type': 'GPE', 'start_char': 139, 'end_char': 141},\n",
       "   {'text': '两三万元', 'type': 'MONEY', 'start_char': 170, 'end_char': 174},\n",
       "   {'text': '今年', 'type': 'DATE', 'start_char': 191, 'end_char': 193},\n",
       "   {'text': '十一', 'type': 'DATE', 'start_char': 194, 'end_char': 196},\n",
       "   {'text': '塞班岛', 'type': 'LOC', 'start_char': 203, 'end_char': 206},\n",
       "   {'text': '7天', 'type': 'DATE', 'start_char': 247, 'end_char': 249},\n",
       "   {'text': '22100多元', 'type': 'MONEY', 'start_char': 270, 'end_char': 277},\n",
       "   {'text': '12', 'type': 'CARDINAL', 'start_char': 284, 'end_char': 286},\n",
       "   {'text': '1960元', 'type': 'MONEY', 'start_char': 293, 'end_char': 298},\n",
       "   {'text': '80后', 'type': 'DATE', 'start_char': 354, 'end_char': 357},\n",
       "   {'text': '90后', 'type': 'DATE', 'start_char': 358, 'end_char': 361},\n",
       "   {'text': '近些年', 'type': 'DATE', 'start_char': 385, 'end_char': 388},\n",
       "   {'text': '山东临沂', 'type': 'GPE', 'start_char': 408, 'end_char': 412},\n",
       "   {'text': '明露', 'type': 'PERSON', 'start_char': 414, 'end_char': 416},\n",
       "   {'text': '今年', 'type': 'DATE', 'start_char': 416, 'end_char': 418},\n",
       "   {'text': '24岁', 'type': 'DATE', 'start_char': 418, 'end_char': 421},\n",
       "   {'text': '天津', 'type': 'GPE', 'start_char': 423, 'end_char': 425},\n",
       "   {'text': '日本', 'type': 'NORP', 'start_char': 445, 'end_char': 447},\n",
       "   {'text': '近两年', 'type': 'DATE', 'start_char': 511, 'end_char': 514},\n",
       "   {'text': '去年', 'type': 'DATE', 'start_char': 531, 'end_char': 533},\n",
       "   {'text': '淘宝', 'type': 'ORG', 'start_char': 540, 'end_char': 542},\n",
       "   {'text': '24', 'type': 'CARDINAL', 'start_char': 544, 'end_char': 546},\n",
       "   {'text': 'P10手机', 'type': 'PRODUCT', 'start_char': 554, 'end_char': 559},\n",
       "   {'text': '今年3月', 'type': 'DATE', 'start_char': 560, 'end_char': 564},\n",
       "   {'text': '沪江网校', 'type': 'ORG', 'start_char': 588, 'end_char': 592},\n",
       "   {'text': '510元', 'type': 'MONEY', 'start_char': 614, 'end_char': 618},\n",
       "   {'text': '今天', 'type': 'DATE', 'start_char': 656, 'end_char': 658},\n",
       "   {'text': '银保监会', 'type': 'ORG', 'start_char': 676, 'end_char': 680},\n",
       "   {'text': '近日', 'type': 'DATE', 'start_char': 680, 'end_char': 682},\n",
       "   {'text': '中国人民大学重阳金融研究院',\n",
       "    'type': 'ORG',\n",
       "    'start_char': 776,\n",
       "    'end_char': 789},\n",
       "   {'text': '董希', 'type': 'PERSON', 'start_char': 794, 'end_char': 796},\n",
       "   {'text': '下半年', 'type': 'DATE', 'start_char': 836, 'end_char': 839},\n",
       "   {'text': '苏宁金融研究院互联网金融研究中心',\n",
       "    'type': 'ORG',\n",
       "    'start_char': 883,\n",
       "    'end_char': 899},\n",
       "   {'text': '北京', 'type': 'GPE', 'start_char': 1184, 'end_char': 1186},\n",
       "   {'text': '王晶', 'type': 'PERSON', 'start_char': 1193, 'end_char': 1195},\n",
       "   {'text': '去年', 'type': 'DATE', 'start_char': 1195, 'end_char': 1197},\n",
       "   {'text': '100万元', 'type': 'MONEY', 'start_char': 1211, 'end_char': 1216},\n",
       "   {'text': '今年', 'type': 'DATE', 'start_char': 1228, 'end_char': 1230},\n",
       "   {'text': '30万元', 'type': 'MONEY', 'start_char': 1369, 'end_char': 1373},\n",
       "   {'text': '去年', 'type': 'DATE', 'start_char': 1383, 'end_char': 1385},\n",
       "   {'text': '几天', 'type': 'DATE', 'start_char': 1396, 'end_char': 1398},\n",
       "   {'text': '这几天', 'type': 'DATE', 'start_char': 1411, 'end_char': 1414},\n",
       "   {'text': '交通银行金融研究中心', 'type': 'ORG', 'start_char': 1501, 'end_char': 1511},\n",
       "   {'text': '江苏', 'type': 'GPE', 'start_char': 1820, 'end_char': 1822},\n",
       "   {'text': '景明', 'type': 'PERSON', 'start_char': 1850, 'end_char': 1852},\n",
       "   {'text': '2000元', 'type': 'MONEY', 'start_char': 1960, 'end_char': 1965},\n",
       "   {'text': '12', 'type': 'CARDINAL', 'start_char': 2078, 'end_char': 2080},\n",
       "   {'text': '24期', 'type': 'CARDINAL', 'start_char': 2087, 'end_char': 2090},\n",
       "   {'text': '36期', 'type': 'CARDINAL', 'start_char': 2091, 'end_char': 2094},\n",
       "   {'text': '6000多元', 'type': 'MONEY', 'start_char': 2124, 'end_char': 2130},\n",
       "   {'text': '4000多元', 'type': 'MONEY', 'start_char': 2139, 'end_char': 2145},\n",
       "   {'text': '8000多元', 'type': 'MONEY', 'start_char': 2169, 'end_char': 2175},\n",
       "   {'text': '北京', 'type': 'GPE', 'start_char': 2177, 'end_char': 2179},\n",
       "   {'text': '今年5月', 'type': 'DATE', 'start_char': 2184, 'end_char': 2188},\n",
       "   {'text': '3100多元', 'type': 'MONEY', 'start_char': 2196, 'end_char': 2202},\n",
       "   {'text': '朝阳大悦城', 'type': 'FAC', 'start_char': 2209, 'end_char': 2214},\n",
       "   {'text': '500元首', 'type': 'MONEY', 'start_char': 2330, 'end_char': 2335},\n",
       "   {'text': '24', 'type': 'CARDINAL', 'start_char': 2339, 'end_char': 2341},\n",
       "   {'text': '129元', 'type': 'MONEY', 'start_char': 2346, 'end_char': 2350},\n",
       "   {'text': '两年', 'type': 'DATE', 'start_char': 2357, 'end_char': 2359},\n",
       "   {'text': '3600多元', 'type': 'MONEY', 'start_char': 2363, 'end_char': 2369},\n",
       "   {'text': '几个月', 'type': 'DATE', 'start_char': 2373, 'end_char': 2376},\n",
       "   {'text': '5500多元', 'type': 'MONEY', 'start_char': 2387, 'end_char': 2393},\n",
       "   {'text': '前两年', 'type': 'DATE', 'start_char': 2510, 'end_char': 2513},\n",
       "   {'text': '责编', 'type': 'PERSON', 'start_char': 3231, 'end_char': 3233},\n",
       "   {'text': '董菁', 'type': 'PERSON', 'start_char': 3238, 'end_char': 3240}]],\n",
       " ['人民网产经',\n",
       "  '信息泄露',\n",
       "  '又一老人被骗280万元！这种诈骗来势凶猛\\xa0务必学会辨认\\n广州市公安局9月2日发出紧急通报：近期骗子冒充公检法人员，致电老人称涉案，要求转账接受调查的诈骗警情来势汹汹，广州已接连有多名退休老人被骗巨款，损失惨重。广州警方在强化防范和打击这类犯罪的同时，再度紧急呼吁，公安机关和其他政法机关没有开设所谓的“国家安全账户”，公检法工作人员绝不会电话通知你涉嫌犯罪，绝不会电话要求和指挥你转账到所谓“安全账户”“以证清白”，请提醒家中老人家切勿上当受骗。\\n8月28日8时许，退休教师李女士接到诈骗电话，对方冒充保险公司及武汉公安人员，以事主涉嫌洗黑钱、需进行资金调查为由进行诈骗。事主误信，按对方指示办理了银行卡后将相关资料提供给对方，并于8月29日将83.6万余元存入该账户。8月31日，事主向朋友提起此事时才发现被骗，于是报警。\\n9月1日9时许，年过六旬的事主蔡女士向市公安局110报警服务台报警称被诈骗，经越秀区公安分局六榕派出所民警到场了解，8月21日起，事主在家中先后接到冒充邮政及公检法工作人员的诈骗电话，称其银行账户涉嫌诈骗、洗黑钱等案件需要调查核实。事主遂于8月22日至29日期间，按对方指令通过网银使用U盾转账人民币合计280万元，后经市反诈中心电话提醒发现被诈骗。目前，越秀区公安分局正为事主办理止付工作并立案侦查。\\n9月1日15时许，退休职工苏女士向天河区公安分局车陂派出所报称，其被人冒充公检法工作人员诈骗128万元人民币。据了解，事主于8月15日12时许，在家中接到冒充中国人寿和武汉公安的电话，谎称事主涉嫌犯罪活动，要求事主将全部资金存入事主名下的中国银行账号。8月20日、21日，事主分别将80万元人民币和48万元人民币存入上述账号，并将银行账号、密码告诉对方。8月31日，事主发现128万元人民币已全部被转走。目前，天河区公安分局正为事主办理止付工作并立案侦查。\\n针对冒充公检法诈骗老人的作案手段，市反诈中心提醒：\\n1.公检法机关没有“安全账户”！要求电话、QQ视频、微信视频做笔录的，都是骗子！要求你通话内容绝对保密，通过QQ、微信发送通缉令、逮捕令的，都是骗子！\\n2.凡是电话中自称通信管理局、电信运营商、银行、保险、邮政等客服人员，以你个人信息泄露、涉嫌洗钱、涉案等为由，主动帮你转接公安机关的，都是骗子！\\n3.任何要求把资金归集到指定账户（无论是自己名下的账户，还是对方提供的账户），要求开通网银，提供银行账号、密码、验证码的，都是骗子！\\n4.如遇拨打亲友电话时发现有停机、空号等异常情况，需提高警惕，设法通过其它途径联系该亲友，核实并提醒谨防上当受骗。\\n5.如遇派出所民警上门劝阻，或要求亲友、事主所在单位协助联系疑似被骗事主进行劝阻的，请积极配合。接到陌生电话，如有疑问，请立即拨打110电话向反诈中心咨询、举报。（记者 吴珂）\\n(责编：丁亦鑫、李�P)',\n",
       "  [{'text': '280万元', 'type': 'MONEY', 'start_char': 6, 'end_char': 11},\n",
       "   {'text': '广州市公安局', 'type': 'ORG', 'start_char': 28, 'end_char': 34},\n",
       "   {'text': '9月', 'type': 'DATE', 'start_char': 34, 'end_char': 36},\n",
       "   {'text': '2日', 'type': 'DATE', 'start_char': 36, 'end_char': 38},\n",
       "   {'text': '广州', 'type': 'GPE', 'start_char': 83, 'end_char': 85},\n",
       "   {'text': '广州', 'type': 'GPE', 'start_char': 105, 'end_char': 107},\n",
       "   {'text': '8月28日8时', 'type': 'TIME', 'start_char': 224, 'end_char': 231},\n",
       "   {'text': '武汉公安', 'type': 'ORG', 'start_char': 256, 'end_char': 260},\n",
       "   {'text': '8月29日', 'type': 'DATE', 'start_char': 316, 'end_char': 321},\n",
       "   {'text': '83.6万余元', 'type': 'MONEY', 'start_char': 322, 'end_char': 329},\n",
       "   {'text': '8月31日', 'type': 'DATE', 'start_char': 335, 'end_char': 340},\n",
       "   {'text': '9月1日9时', 'type': 'TIME', 'start_char': 363, 'end_char': 369},\n",
       "   {'text': '市公安局110报警服务台报',\n",
       "    'type': 'ORG',\n",
       "    'start_char': 382,\n",
       "    'end_char': 395},\n",
       "   {'text': '越秀区公安分局六榕派出所民警到场',\n",
       "    'type': 'ORG',\n",
       "    'start_char': 402,\n",
       "    'end_char': 418},\n",
       "   {'text': '8月21日', 'type': 'DATE', 'start_char': 421, 'end_char': 426},\n",
       "   {'text': '8月22日至29日', 'type': 'DATE', 'start_char': 483, 'end_char': 492},\n",
       "   {'text': '网银', 'type': 'ORG', 'start_char': 502, 'end_char': 504},\n",
       "   {'text': 'U盾转账人民币', 'type': 'MONEY', 'start_char': 506, 'end_char': 513},\n",
       "   {'text': '280万元', 'type': 'MONEY', 'start_char': 515, 'end_char': 520},\n",
       "   {'text': '市反诈中心', 'type': 'ORG', 'start_char': 523, 'end_char': 528},\n",
       "   {'text': '越秀区公安分局', 'type': 'ORG', 'start_char': 541, 'end_char': 548},\n",
       "   {'text': '9月1日15时', 'type': 'TIME', 'start_char': 565, 'end_char': 572},\n",
       "   {'text': '天河区公安分局车陂', 'type': 'ORG', 'start_char': 582, 'end_char': 591},\n",
       "   {'text': '128万元人民币', 'type': 'MONEY', 'start_char': 611, 'end_char': 619},\n",
       "   {'text': '8月15日12时', 'type': 'TIME', 'start_char': 627, 'end_char': 635},\n",
       "   {'text': '中国人寿', 'type': 'ORG', 'start_char': 644, 'end_char': 648},\n",
       "   {'text': '武汉公安', 'type': 'ORG', 'start_char': 649, 'end_char': 653},\n",
       "   {'text': '中国银行', 'type': 'ORG', 'start_char': 684, 'end_char': 688},\n",
       "   {'text': '8月20日、21日', 'type': 'DATE', 'start_char': 691, 'end_char': 700},\n",
       "   {'text': '80万元人民币', 'type': 'MONEY', 'start_char': 706, 'end_char': 713},\n",
       "   {'text': '48万元人民币', 'type': 'MONEY', 'start_char': 714, 'end_char': 721},\n",
       "   {'text': '8月31日', 'type': 'DATE', 'start_char': 742, 'end_char': 747},\n",
       "   {'text': '128万元人民币', 'type': 'MONEY', 'start_char': 752, 'end_char': 760},\n",
       "   {'text': '天河区公安分局', 'type': 'ORG', 'start_char': 770, 'end_char': 777},\n",
       "   {'text': '通信管理局', 'type': 'ORG', 'start_char': 905, 'end_char': 910},\n",
       "   {'text': '110', 'type': 'CARDINAL', 'start_char': 1159, 'end_char': 1162},\n",
       "   {'text': '吴珂', 'type': 'PERSON', 'start_char': 1179, 'end_char': 1181},\n",
       "   {'text': '责编', 'type': 'PERSON', 'start_char': 1184, 'end_char': 1186},\n",
       "   {'text': 'P)', 'type': 'PERSON', 'start_char': 1193, 'end_char': 1195}]]]"
      ]
     },
     "execution_count": 8,
     "metadata": {},
     "output_type": "execute_result"
    }
   ],
   "source": [
    "print(len(data))\n",
    "data[:2]"
   ]
  },
  {
   "cell_type": "code",
   "execution_count": 10,
   "metadata": {},
   "outputs": [
    {
     "data": {
      "text/html": [
       "<div>\n",
       "<style scoped>\n",
       "    .dataframe tbody tr th:only-of-type {\n",
       "        vertical-align: middle;\n",
       "    }\n",
       "\n",
       "    .dataframe tbody tr th {\n",
       "        vertical-align: top;\n",
       "    }\n",
       "\n",
       "    .dataframe thead th {\n",
       "        text-align: right;\n",
       "    }\n",
       "</style>\n",
       "<table border=\"1\" class=\"dataframe\">\n",
       "  <thead>\n",
       "    <tr style=\"text-align: right;\">\n",
       "      <th></th>\n",
       "      <th>src_web</th>\n",
       "      <th>keywords</th>\n",
       "      <th>text</th>\n",
       "      <th>entities</th>\n",
       "      <th>len_text</th>\n",
       "    </tr>\n",
       "  </thead>\n",
       "  <tbody>\n",
       "    <tr>\n",
       "      <th>0</th>\n",
       "      <td>人民网产经</td>\n",
       "      <td>信息泄露</td>\n",
       "      <td>消费火正旺 金融添把柴\\n年轻人消费方式的改变和信用消费意识的增强，推动消费金融行业井喷式增...</td>\n",
       "      <td>[{'text': '韩国', 'type': 'GPE', 'start_char': 8...</td>\n",
       "      <td>3241</td>\n",
       "    </tr>\n",
       "    <tr>\n",
       "      <th>1</th>\n",
       "      <td>人民网产经</td>\n",
       "      <td>信息泄露</td>\n",
       "      <td>又一老人被骗280万元！这种诈骗来势凶猛 务必学会辨认\\n广州市公安局9月2日发出紧急通报：...</td>\n",
       "      <td>[{'text': '280万元', 'type': 'MONEY', 'start_cha...</td>\n",
       "      <td>1195</td>\n",
       "    </tr>\n",
       "  </tbody>\n",
       "</table>\n",
       "</div>"
      ],
      "text/plain": [
       "  src_web keywords                                               text  \\\n",
       "0   人民网产经     信息泄露  消费火正旺 金融添把柴\\n年轻人消费方式的改变和信用消费意识的增强，推动消费金融行业井喷式增...   \n",
       "1   人民网产经     信息泄露  又一老人被骗280万元！这种诈骗来势凶猛 务必学会辨认\\n广州市公安局9月2日发出紧急通报：...   \n",
       "\n",
       "                                            entities  len_text  \n",
       "0  [{'text': '韩国', 'type': 'GPE', 'start_char': 8...      3241  \n",
       "1  [{'text': '280万元', 'type': 'MONEY', 'start_cha...      1195  "
      ]
     },
     "execution_count": 10,
     "metadata": {},
     "output_type": "execute_result"
    }
   ],
   "source": [
    "import pandas as pd\n",
    "df=pd.DataFrame(data, columns=['src_web', 'keywords', 'text','entities'])\n",
    "df['len_text']=df['text'].str.len()\n",
    "df.head(2)"
   ]
  },
  {
   "cell_type": "code",
   "execution_count": 11,
   "metadata": {},
   "outputs": [
    {
     "data": {
      "text/plain": [
       "信息泄露    6\n",
       "Name: keywords, dtype: int64"
      ]
     },
     "execution_count": 11,
     "metadata": {},
     "output_type": "execute_result"
    }
   ],
   "source": [
    "df['keywords'].value_counts()# 统计关键词文档数量"
   ]
  },
  {
   "cell_type": "code",
   "execution_count": 12,
   "metadata": {},
   "outputs": [],
   "source": [
    "# 合并后缀为2的关键词\n",
    "df['keywords']=df['keywords'].apply(lambda x: x[:-1] if x.endswith('2') else x)"
   ]
  },
  {
   "cell_type": "code",
   "execution_count": 13,
   "metadata": {},
   "outputs": [
    {
     "data": {
      "text/plain": [
       "信息泄露    6\n",
       "Name: keywords, dtype: int64"
      ]
     },
     "execution_count": 13,
     "metadata": {},
     "output_type": "execute_result"
    }
   ],
   "source": [
    "df['keywords'].value_counts()"
   ]
  },
  {
   "cell_type": "code",
   "execution_count": null,
   "metadata": {},
   "outputs": [],
   "source": [
    "# 关键词分布图\n",
    "import seaborn as sns\n",
    "sns.set_style('whitegrid',{'font.sans-serif':['simhei','Arial']})\n",
    "sns.countplot(y=df['keywords'])"
   ]
  },
  {
   "cell_type": "code",
   "execution_count": null,
   "metadata": {},
   "outputs": [],
   "source": [
    "df['len_text'].describe() # 文本长度分布"
   ]
  },
  {
   "cell_type": "code",
   "execution_count": 14,
   "metadata": {},
   "outputs": [],
   "source": [
    "# df.to_csv('fin_articles.csv',encoding='utf-8',index=0)\n",
    "df.to_csv('test_fin_articles.csv',encoding='utf-8',index=0)"
   ]
  },
  {
   "cell_type": "code",
   "execution_count": 15,
   "metadata": {},
   "outputs": [
    {
     "data": {
      "text/html": [
       "<div>\n",
       "<style scoped>\n",
       "    .dataframe tbody tr th:only-of-type {\n",
       "        vertical-align: middle;\n",
       "    }\n",
       "\n",
       "    .dataframe tbody tr th {\n",
       "        vertical-align: top;\n",
       "    }\n",
       "\n",
       "    .dataframe thead th {\n",
       "        text-align: right;\n",
       "    }\n",
       "</style>\n",
       "<table border=\"1\" class=\"dataframe\">\n",
       "  <thead>\n",
       "    <tr style=\"text-align: right;\">\n",
       "      <th></th>\n",
       "      <th>src_web</th>\n",
       "      <th>keywords</th>\n",
       "      <th>text</th>\n",
       "      <th>entities</th>\n",
       "      <th>len_text</th>\n",
       "    </tr>\n",
       "  </thead>\n",
       "  <tbody>\n",
       "    <tr>\n",
       "      <th>0</th>\n",
       "      <td>人民网产经</td>\n",
       "      <td>信息泄露</td>\n",
       "      <td>消费火正旺 金融添把柴\\n年轻人消费方式的改变和信用消费意识的增强，推动消费金融行业井喷式增...</td>\n",
       "      <td>[{'text': '韩国', 'type': 'GPE', 'start_char': 8...</td>\n",
       "      <td>3241</td>\n",
       "    </tr>\n",
       "    <tr>\n",
       "      <th>1</th>\n",
       "      <td>人民网产经</td>\n",
       "      <td>信息泄露</td>\n",
       "      <td>又一老人被骗280万元！这种诈骗来势凶猛 务必学会辨认\\n广州市公安局9月2日发出紧急通报：...</td>\n",
       "      <td>[{'text': '280万元', 'type': 'MONEY', 'start_cha...</td>\n",
       "      <td>1195</td>\n",
       "    </tr>\n",
       "    <tr>\n",
       "      <th>2</th>\n",
       "      <td>人民网产经</td>\n",
       "      <td>信息泄露</td>\n",
       "      <td>月花两三千，过得像月入三五万？\"租一族\"崛起！但真的划算吗？\\n原标题：月花两三千，过得像月...</td>\n",
       "      <td>[{'text': '三千', 'type': 'CARDINAL', 'start_cha...</td>\n",
       "      <td>2501</td>\n",
       "    </tr>\n",
       "    <tr>\n",
       "      <th>3</th>\n",
       "      <td>人民网产经</td>\n",
       "      <td>信息泄露</td>\n",
       "      <td>2020年我国数据总量全球占比将达20% 信息基础设施保护是大数据安全关键\\n原标题：202...</td>\n",
       "      <td>[{'text': '2020年', 'type': 'DATE', 'start_char...</td>\n",
       "      <td>1926</td>\n",
       "    </tr>\n",
       "    <tr>\n",
       "      <th>4</th>\n",
       "      <td>人民网产经</td>\n",
       "      <td>信息泄露</td>\n",
       "      <td>1秒钟能下载一部高清电影 5G来了！你准备好了吗\\n原标题：5G来了！你准备好了吗\\n5月1...</td>\n",
       "      <td>[{'text': '1秒', 'type': 'TIME', 'start_char': ...</td>\n",
       "      <td>2030</td>\n",
       "    </tr>\n",
       "  </tbody>\n",
       "</table>\n",
       "</div>"
      ],
      "text/plain": [
       "  src_web keywords                                               text  \\\n",
       "0   人民网产经     信息泄露  消费火正旺 金融添把柴\\n年轻人消费方式的改变和信用消费意识的增强，推动消费金融行业井喷式增...   \n",
       "1   人民网产经     信息泄露  又一老人被骗280万元！这种诈骗来势凶猛 务必学会辨认\\n广州市公安局9月2日发出紧急通报：...   \n",
       "2   人民网产经     信息泄露  月花两三千，过得像月入三五万？\"租一族\"崛起！但真的划算吗？\\n原标题：月花两三千，过得像月...   \n",
       "3   人民网产经     信息泄露  2020年我国数据总量全球占比将达20% 信息基础设施保护是大数据安全关键\\n原标题：202...   \n",
       "4   人民网产经     信息泄露  1秒钟能下载一部高清电影 5G来了！你准备好了吗\\n原标题：5G来了！你准备好了吗\\n5月1...   \n",
       "\n",
       "                                            entities  len_text  \n",
       "0  [{'text': '韩国', 'type': 'GPE', 'start_char': 8...      3241  \n",
       "1  [{'text': '280万元', 'type': 'MONEY', 'start_cha...      1195  \n",
       "2  [{'text': '三千', 'type': 'CARDINAL', 'start_cha...      2501  \n",
       "3  [{'text': '2020年', 'type': 'DATE', 'start_char...      1926  \n",
       "4  [{'text': '1秒', 'type': 'TIME', 'start_char': ...      2030  "
      ]
     },
     "execution_count": 15,
     "metadata": {},
     "output_type": "execute_result"
    }
   ],
   "source": [
    "df2=pd.read_csv('test_fin_articles.csv',encoding='utf8')\n",
    "df2.head()"
   ]
  },
  {
   "cell_type": "code",
   "execution_count": null,
   "metadata": {},
   "outputs": [],
   "source": [
    "# 抽取实体"
   ]
  }
 ],
 "metadata": {
  "interpreter": {
   "hash": "47bf24be694c80732341e95329701f864584ed979597816d020febe81b528c66"
  },
  "kernelspec": {
   "display_name": "Python 3 (ipykernel)",
   "language": "python",
   "name": "python3"
  },
  "language_info": {
   "codemirror_mode": {
    "name": "ipython",
    "version": 3
   },
   "file_extension": ".py",
   "mimetype": "text/x-python",
   "name": "python",
   "nbconvert_exporter": "python",
   "pygments_lexer": "ipython3",
   "version": "3.9.9"
  }
 },
 "nbformat": 4,
 "nbformat_minor": 2
}
